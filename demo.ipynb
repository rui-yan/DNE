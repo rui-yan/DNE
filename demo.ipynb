{
 "cells": [
  {
   "cell_type": "code",
   "execution_count": 1,
   "metadata": {},
   "outputs": [],
   "source": [
    "import sys\n",
    "import pandas as pd\n",
    "sys.path.append('code')\n",
    "from tasks.link_prediction import LinkPredictor\n",
    "from dataset import GraphDataset"
   ]
  },
  {
   "cell_type": "code",
   "execution_count": 2,
   "metadata": {},
   "outputs": [
    {
     "name": "stdout",
     "output_type": "stream",
     "text": [
      "\n",
      "Graph Loaded:\n",
      "Number of nodes: 5022\n",
      "Number of edges: 6258\n"
     ]
    }
   ],
   "source": [
    "data_path = 'data'\n",
    "dataset = 'Router'\n",
    "\n",
    "# Load dataset\n",
    "graph_data = GraphDataset(data_path)\n",
    "graph_data.load_graph(dataset)\n",
    "graph, node_subjects = graph_data.graph, graph_data.node_subjects\n",
    "\n",
    "if node_subjects.empty:\n",
    "        node_subjects = None\n",
    "\n",
    "# Calculate graph statistics\n",
    "num_edges = graph.number_of_edges()\n",
    "num_nodes = graph.number_of_nodes()\n",
    "print(\"\\nGraph Loaded:\")\n",
    "print(f\"Number of nodes: {num_nodes}\")\n",
    "print(f\"Number of edges: {num_edges}\")"
   ]
  },
  {
   "cell_type": "code",
   "execution_count": 3,
   "metadata": {},
   "outputs": [
    {
     "name": "stdout",
     "output_type": "stream",
     "text": [
      "Generate DNE embeddings for Train Graph\n"
     ]
    },
    {
     "name": "stderr",
     "output_type": "stream",
     "text": [
      "Epoch 10/10 | Loss: 0.0442: 100%|██████████| 10/10 [00:45<00:00,  4.60s/it]\n"
     ]
    },
    {
     "name": "stdout",
     "output_type": "stream",
     "text": [
      "trial:  0 score:  {'auc_roc': 0.9025, 'auc_pr': 0.8951, 'acc': 0.8144, 'f1': 0.8044, 'bcc': 0.8144, 'method': 'DNE', 'trial': 0}\n",
      "Generate GraRep embeddings for Train Graph\n",
      "trial:  0 score:  {'auc_roc': 0.8341, 'auc_pr': 0.8463, 'acc': 0.7568, 'f1': 0.737, 'bcc': 0.7568, 'method': 'GraRep', 'trial': 0}\n",
      "Generate HOPE embeddings for Train Graph\n",
      "trial:  0 score:  {'auc_roc': 0.7209, 'auc_pr': 0.7845, 'acc': 0.728, 'f1': 0.6654, 'bcc': 0.728, 'method': 'HOPE', 'trial': 0}\n",
      "Generate NetMF embeddings for Train Graph\n",
      "Running NetMF for a small window size...\n",
      "Compute matrix %d-th power 1\n",
      "Compute matrix %d-th power 2\n",
      "Compute matrix %d-th power 3\n",
      "Compute matrix %d-th power 4\n",
      "Compute matrix %d-th power 5\n",
      "trial:  0 score:  {'auc_roc': 0.6838, 'auc_pr': 0.6221, 'acc': 0.644, 'f1': 0.6431, 'bcc': 0.644, 'method': 'NetMF', 'trial': 0}\n",
      "Generate LLE embeddings for Train Graph\n",
      "trial:  0 score:  {'auc_roc': 0.7058, 'auc_pr': 0.6367, 'acc': 0.6632, 'f1': 0.6429, 'bcc': 0.6632, 'method': 'LLE', 'trial': 0}\n",
      "Generate N2V embeddings for Train Graph\n",
      "trial:  0 score:  {'auc_roc': 0.7529, 'auc_pr': 0.7333, 'acc': 0.7104, 'f1': 0.6733, 'bcc': 0.7104, 'method': 'N2V', 'trial': 0}\n",
      "Generate SVD embeddings for Train Graph\n",
      "trial:  0 score:  {'auc_roc': 0.7525, 'auc_pr': 0.7921, 'acc': 0.6896, 'f1': 0.5783, 'bcc': 0.6896, 'method': 'SVD', 'trial': 0}\n"
     ]
    }
   ],
   "source": [
    "# run link prediction\n",
    "clf = LinkPredictor(graph=graph)\n",
    "df_result = pd.DataFrame()\n",
    "for method in ['DNE', 'GraRep', 'HOPE', 'NetMF', 'LLE', 'N2V', 'SVD']:\n",
    "    result = clf.train_and_evaluate(method, node_subjects, cv_fold=5, n_trials=1)\n",
    "    df_result = pd.concat([df_result, result])"
   ]
  },
  {
   "cell_type": "code",
   "execution_count": 4,
   "metadata": {},
   "outputs": [
    {
     "data": {
      "image/png": "[encoded data removed]",
      "text/plain": [
       "<Figure size 640x480 with 1 Axes>"
      ]
     },
     "metadata": {},
     "output_type": "display_data"
    }
   ],
   "source": [
    "import seaborn as sns\n",
    "import matplotlib.pyplot as plt\n",
    "sns.barplot(x='method', y='auc_roc', data=df_result, hue='method')\n",
    "plt.xlabel('Method')\n",
    "plt.ylabel('ROC-AUC')\n",
    "plt.ylim(0.5, 1.0)\n",
    "plt.xticks(rotation=45)\n",
    "plt.show()"
   ]
  }
 ],
 "metadata": {
  "kernelspec": {
   "display_name": "bionec",
   "language": "python",
   "name": "python3"
  },
  "language_info": {
   "codemirror_mode": {
    "name": "ipython",
    "version": 3
   },
   "file_extension": ".py",
   "mimetype": "text/x-python",
   "name": "python",
   "nbconvert_exporter": "python",
   "pygments_lexer": "ipython3",
   "version": "3.9.18"
  }
 },
 "nbformat": 4,
 "nbformat_minor": 2
}
